{
 "cells": [
  {
   "cell_type": "code",
   "execution_count": 1,
   "metadata": {},
   "outputs": [
    {
     "name": "stderr",
     "output_type": "stream",
     "text": [
      "Using TensorFlow backend.\n",
      "/Users/a80099707/anaconda3/lib/python3.6/site-packages/tensorflow/python/framework/dtypes.py:523: FutureWarning: Passing (type, 1) or '1type' as a synonym of type is deprecated; in a future version of numpy, it will be understood as (type, (1,)) / '(1,)type'.\n",
      "  _np_qint8 = np.dtype([(\"qint8\", np.int8, 1)])\n",
      "/Users/a80099707/anaconda3/lib/python3.6/site-packages/tensorflow/python/framework/dtypes.py:524: FutureWarning: Passing (type, 1) or '1type' as a synonym of type is deprecated; in a future version of numpy, it will be understood as (type, (1,)) / '(1,)type'.\n",
      "  _np_quint8 = np.dtype([(\"quint8\", np.uint8, 1)])\n",
      "/Users/a80099707/anaconda3/lib/python3.6/site-packages/tensorflow/python/framework/dtypes.py:525: FutureWarning: Passing (type, 1) or '1type' as a synonym of type is deprecated; in a future version of numpy, it will be understood as (type, (1,)) / '(1,)type'.\n",
      "  _np_qint16 = np.dtype([(\"qint16\", np.int16, 1)])\n",
      "/Users/a80099707/anaconda3/lib/python3.6/site-packages/tensorflow/python/framework/dtypes.py:526: FutureWarning: Passing (type, 1) or '1type' as a synonym of type is deprecated; in a future version of numpy, it will be understood as (type, (1,)) / '(1,)type'.\n",
      "  _np_quint16 = np.dtype([(\"quint16\", np.uint16, 1)])\n",
      "/Users/a80099707/anaconda3/lib/python3.6/site-packages/tensorflow/python/framework/dtypes.py:527: FutureWarning: Passing (type, 1) or '1type' as a synonym of type is deprecated; in a future version of numpy, it will be understood as (type, (1,)) / '(1,)type'.\n",
      "  _np_qint32 = np.dtype([(\"qint32\", np.int32, 1)])\n",
      "/Users/a80099707/anaconda3/lib/python3.6/site-packages/tensorflow/python/framework/dtypes.py:532: FutureWarning: Passing (type, 1) or '1type' as a synonym of type is deprecated; in a future version of numpy, it will be understood as (type, (1,)) / '(1,)type'.\n",
      "  np_resource = np.dtype([(\"resource\", np.ubyte, 1)])\n"
     ]
    }
   ],
   "source": [
    "import numpy as np\n",
    "import pandas as pd\n",
    "import time\n",
    "\n",
    "import keras\n",
    "from keras import Model, backend as K"
   ]
  },
  {
   "cell_type": "code",
   "execution_count": 16,
   "metadata": {},
   "outputs": [],
   "source": [
    "R = np.array([\n",
    "    [1, 0, 0, 1, 3, 0, 4, 4, 1],\n",
    "    [2, 0, 3, 1, 1, 1, 5, 4, 0],\n",
    "    [1, 2, 0, 5, 0, 4, 0, 0, 1],\n",
    "    [1, 0, 0, 4, 4, 0, 3, 1, 0],\n",
    "    [2, 1, 5, 4, 0, 1, 3, 0, 0],\n",
    "    [5, 1, 5, 4, 0, 1, 3, 0, 1],\n",
    "    [0, 0, 0, 1, 0, 1, 3, 0, 2],\n",
    "    [3, 0, 0, 2, 0, 1, 2, 0, 1],\n",
    "    [2, 1, 3, 0, 1, 3, 1, 0, 0],\n",
    "    [2, 2, 5, 4, 4, 0, 0, 1, 0]\n",
    "])"
   ]
  },
  {
   "cell_type": "markdown",
   "metadata": {},
   "source": [
    "## keras MF: sustainability & reproducibility test"
   ]
  },
  {
   "cell_type": "code",
   "execution_count": 62,
   "metadata": {},
   "outputs": [
    {
     "name": "stderr",
     "output_type": "stream",
     "text": [
      "/Users/a80099707/anaconda3/lib/python3.6/site-packages/ipykernel_launcher.py:14: UserWarning: Update your `Model` call to the Keras 2 API: `Model(inputs=[<tf.Tenso..., outputs=Tensor(\"do...)`\n",
      "  \n"
     ]
    }
   ],
   "source": [
    "n_users, n_items = R.shape\n",
    "num_predictive_factors = 4\n",
    "user_input = keras.layers.Input(shape=[1], name='User')\n",
    "item_input = keras.layers.Input(shape=[1], name='Item')\n",
    "\n",
    "user_embedding_mf = keras.layers.Embedding(n_users, num_predictive_factors, )(user_input)\n",
    "user_vec_mf = keras.layers.Flatten(name='Flatten_users_MF')(user_embedding_mf)\n",
    "#user_vec_mf = keras.layers.Dropout(0.3)(user_vec_mf)\n",
    "item_embedding_mf = keras.layers.Embedding(n_items, num_predictive_factors, )(item_input)\n",
    "item_vec_mf = keras.layers.Flatten(name='Flatten_items_MF')(item_embedding_mf)\n",
    "#item_vec_mf = keras.layers.Dropout(0.3)(item_vec_mf)\n",
    "\n",
    "pred_mf = keras.layers.dot([user_vec_mf, item_vec_mf], axes=1)\n",
    "model = Model(inputs=[user_input, item_input], output=pred_mf)\n",
    "model.compile(optimizer='adam', loss='mean_absolute_error', metrics=['mae', 'accuracy'])\n",
    "\n",
    "# Train Model\n",
    "history = model.fit(x=[pd.Series(np.nonzero(R)[0]), pd.Series(np.nonzero(R)[1])], y=R[np.nonzero(R)],\n",
    "                   batch_size=None,\n",
    "                   epochs=10000,\n",
    "                   verbose=0)"
   ]
  },
  {
   "cell_type": "code",
   "execution_count": 63,
   "metadata": {},
   "outputs": [
    {
     "data": {
      "text/plain": [
       "<matplotlib.legend.Legend at 0x643840780>"
      ]
     },
     "execution_count": 63,
     "metadata": {},
     "output_type": "execute_result"
    },
    {
     "data": {
      "image/png": "[encoded data removed]",
      "text/plain": [
       "<Figure size 432x288 with 2 Axes>"
      ]
     },
     "metadata": {
      "needs_background": "light"
     },
     "output_type": "display_data"
    }
   ],
   "source": [
    "import matplotlib.pyplot as plt\n",
    "\n",
    "fig, loss_ax = plt.subplots()\n",
    "acc_ax = loss_ax.twinx()\n",
    "\n",
    "loss_ax.plot(history.history['loss'], 'y', label='train_loss')\n",
    "acc_ax.plot(history.history['acc'], 'b', label='train_acc')\n",
    "\n",
    "loss_ax.set_xlabel('epoch')\n",
    "loss_ax.set_ylabel('loss')\n",
    "acc_ax.set_ylabel('accuracy')\n",
    "\n",
    "loss_ax.legend(loc='upper left')\n",
    "acc_ax.legend(loc='lower left')"
   ]
  },
  {
   "cell_type": "code",
   "execution_count": 64,
   "metadata": {},
   "outputs": [
    {
     "data": {
      "text/plain": [
       "array([[ 1,  3,  5,  1,  3,  1,  4,  4,  1,  5,  1,  2,  3],\n",
       "       [ 2,  4,  3,  1,  1,  1,  3,  4,  2,  4,  3,  1,  2],\n",
       "       [ 1,  2, -1,  5, -5,  4, -2, -1,  1,  5,  9,  1,  0],\n",
       "       [ 1,  1,  5,  4,  4,  2,  3,  1,  0,  6,  1,  3,  1],\n",
       "       [ 2,  1,  5,  4,  5,  1,  3,  1,  0,  4, -1,  2,  1],\n",
       "       [ 5,  1,  5,  4,  7,  1,  3,  0,  1,  1, -2,  1, -1],\n",
       "       [ 3,  3,  3,  1,  2,  1,  3,  3,  2,  3,  2,  1,  2],\n",
       "       [ 2,  2,  3,  2,  3,  1,  2,  2,  1,  3,  1,  1,  1],\n",
       "       [ 2,  1,  3,  6,  1,  3,  1, -1,  0,  5,  4,  2,  0],\n",
       "       [ 2,  2,  5,  4,  4,  2,  3,  1,  0,  5,  1,  2,  1],\n",
       "       [ 0,  3,  1,  5, -4,  4,  0,  1,  1,  7,  9,  2,  1],\n",
       "       [ 5,  4,  3,  1,  3,  1,  3,  4,  3,  1,  1,  0,  1],\n",
       "       [ 5,  4,  0, -2,  1,  0,  2,  4,  4, -3,  1, -3,  0],\n",
       "       [ 1,  3,  5,  1,  3,  1,  4,  4,  1,  5,  1,  2,  3],\n",
       "       [ 4,  4,  3,  3,  1,  3,  2,  3,  2,  4,  5,  1,  1]])"
      ]
     },
     "execution_count": 64,
     "metadata": {},
     "output_type": "execute_result"
    }
   ],
   "source": [
    "prd_user = [[idx]*n_items for idx in range(n_users)]\n",
    "prd_user = pd.Series(np.reshape(prd_user, -1))\n",
    "prd_item = pd.Series([x for x in range(n_items)] * n_users)\n",
    "\n",
    "ret = model.predict(x=[prd_user, prd_item])\n",
    "\n",
    "pred_R = np.round(ret.reshape([n_users, n_items]))\n",
    "pred_R.astype('int')"
   ]
  },
  {
   "cell_type": "code",
   "execution_count": 65,
   "metadata": {},
   "outputs": [
    {
     "data": {
      "text/plain": [
       "array([[1, 0, 0, 1, 3, 0, 4, 4, 1, 0, 1, 2, 3],\n",
       "       [2, 0, 3, 1, 1, 1, 5, 4, 0, 0, 3, 1, 0],\n",
       "       [1, 2, 0, 5, 0, 4, 0, 0, 1, 0, 0, 1, 0],\n",
       "       [1, 0, 0, 4, 4, 0, 3, 1, 0, 0, 1, 3, 1],\n",
       "       [2, 1, 5, 4, 0, 1, 3, 0, 0, 4, 0, 0, 1],\n",
       "       [5, 1, 5, 4, 0, 1, 3, 0, 1, 0, 0, 1, 0],\n",
       "       [0, 0, 0, 1, 0, 1, 3, 0, 2, 3, 2, 1, 1],\n",
       "       [3, 0, 0, 2, 0, 1, 2, 0, 1, 3, 1, 1, 1],\n",
       "       [2, 1, 3, 0, 1, 3, 1, 0, 0, 5, 4, 0, 0],\n",
       "       [2, 2, 5, 4, 4, 0, 0, 1, 0, 0, 1, 3, 1],\n",
       "       [0, 0, 1, 0, 0, 4, 0, 0, 1, 0, 0, 2, 1],\n",
       "       [5, 4, 0, 0, 3, 1, 0, 0, 3, 1, 0, 0, 1],\n",
       "       [0, 4, 0, 0, 1, 0, 0, 4, 0, 0, 1, 0, 0],\n",
       "       [1, 3, 0, 1, 3, 1, 0, 4, 1, 0, 1, 2, 3],\n",
       "       [4, 4, 0, 0, 1, 0, 1, 0, 0, 4, 0, 0, 1]])"
      ]
     },
     "execution_count": 65,
     "metadata": {},
     "output_type": "execute_result"
    }
   ],
   "source": [
    "R"
   ]
  },
  {
   "cell_type": "code",
   "execution_count": 66,
   "metadata": {},
   "outputs": [
    {
     "data": {
      "text/plain": [
       "0.956140350877193"
      ]
     },
     "execution_count": 66,
     "metadata": {},
     "output_type": "execute_result"
    }
   ],
   "source": [
    "# Reproducibility (k=4)\n",
    "1 - len(np.nonzero(R[np.nonzero(R)] - pred_R[np.nonzero(R)])[0]) / len(np.nonzero(R)[0])"
   ]
  },
  {
   "cell_type": "code",
   "execution_count": null,
   "metadata": {},
   "outputs": [],
   "source": []
  },
  {
   "cell_type": "code",
   "execution_count": 43,
   "metadata": {},
   "outputs": [
    {
     "data": {
      "text/plain": [
       "(15, 13)"
      ]
     },
     "execution_count": 43,
     "metadata": {},
     "output_type": "execute_result"
    }
   ],
   "source": [
    "R = np.array([\n",
    "    [1, 0, 0, 1, 3, 0, 4, 4, 1, 0, 1, 2, 3],\n",
    "    [2, 0, 3, 1, 1, 1, 5, 4, 0, 0, 3, 1, 0],\n",
    "    [1, 2, 0, 5, 0, 4, 0, 0, 1, 0, 0, 1, 0],\n",
    "    [1, 0, 0, 4, 4, 0, 3, 1, 0, 0, 1, 3, 1],\n",
    "    [2, 1, 5, 4, 0, 1, 3, 0, 0, 4, 0, 0, 1],\n",
    "    [5, 1, 5, 4, 0, 1, 3, 0, 1, 0, 0, 1, 0],\n",
    "    [0, 0, 0, 1, 0, 1, 3, 0, 2, 3, 2, 1, 1],\n",
    "    [3, 0, 0, 2, 0, 1, 2, 0, 1, 3, 1, 1, 1],\n",
    "    [2, 1, 3, 0, 1, 3, 1, 0, 0, 5, 4, 0, 0],\n",
    "    [2, 2, 5, 4, 4, 0, 0, 1, 0, 0, 1, 3, 1],\n",
    "    [0, 0, 1, 0, 0, 4, 0, 0, 1, 0, 0, 2, 1],\n",
    "    [5, 4, 0, 0, 3, 1, 0, 0, 3, 1, 0, 0, 1],\n",
    "    [0, 4, 0, 0, 1, 0, 0, 4, 0, 0, 1, 0, 0],\n",
    "    [1, 3, 0, 1, 3, 1, 0, 4, 1, 0, 1, 2, 3],\n",
    "    [4, 4, 0, 0, 1, 0, 1, 0, 0, 4, 0, 0, 1]\n",
    "])\n",
    "R.shape"
   ]
  },
  {
   "cell_type": "code",
   "execution_count": 57,
   "metadata": {},
   "outputs": [
    {
     "name": "stderr",
     "output_type": "stream",
     "text": [
      "/Users/a80099707/anaconda3/lib/python3.6/site-packages/ipykernel_launcher.py:14: UserWarning: Update your `Model` call to the Keras 2 API: `Model(inputs=[<tf.Tenso..., outputs=Tensor(\"do...)`\n",
      "  \n"
     ]
    }
   ],
   "source": [
    "n_users, n_items = R.shape\n",
    "num_predictive_factors = 4\n",
    "user_input = keras.layers.Input(shape=[1], name='User')\n",
    "item_input = keras.layers.Input(shape=[1], name='Item')\n",
    "\n",
    "user_embedding_mf = keras.layers.Embedding(n_users, num_predictive_factors, )(user_input)\n",
    "user_vec_mf = keras.layers.Flatten(name='Flatten_users_MF')(user_embedding_mf)\n",
    "#user_vec_mf = keras.layers.Dropout(0.3)(user_vec_mf)\n",
    "item_embedding_mf = keras.layers.Embedding(n_items, num_predictive_factors, )(item_input)\n",
    "item_vec_mf = keras.layers.Flatten(name='Flatten_items_MF')(item_embedding_mf)\n",
    "#item_vec_mf = keras.layers.Dropout(0.3)(item_vec_mf)\n",
    "\n",
    "pred_mf = keras.layers.dot([user_vec_mf, item_vec_mf], axes=1)\n",
    "model = Model(inputs=[user_input, item_input], output=pred_mf)\n",
    "model.compile(optimizer='adam', loss='mean_absolute_error', metrics=['mae', 'accuracy'])\n",
    "\n",
    "# Train Model\n",
    "history = model.fit(x=[pd.Series(np.nonzero(R)[0]), pd.Series(np.nonzero(R)[1])], y=R[np.nonzero(R)],\n",
    "                   batch_size=None,\n",
    "                   epochs=10000,\n",
    "                   verbose=0)"
   ]
  },
  {
   "cell_type": "code",
   "execution_count": 58,
   "metadata": {},
   "outputs": [
    {
     "data": {
      "text/plain": [
       "<matplotlib.legend.Legend at 0x643ed66d8>"
      ]
     },
     "execution_count": 58,
     "metadata": {},
     "output_type": "execute_result"
    },
    {
     "data": {
      "image/png": "[encoded data removed]",
      "text/plain": [
       "<Figure size 432x288 with 2 Axes>"
      ]
     },
     "metadata": {
      "needs_background": "light"
     },
     "output_type": "display_data"
    }
   ],
   "source": [
    "import matplotlib.pyplot as plt\n",
    "\n",
    "fig, loss_ax = plt.subplots()\n",
    "acc_ax = loss_ax.twinx()\n",
    "\n",
    "loss_ax.plot(history.history['loss'], 'y', label='train_loss')\n",
    "acc_ax.plot(history.history['acc'], 'b', label='train_acc')\n",
    "\n",
    "loss_ax.set_xlabel('epoch')\n",
    "loss_ax.set_ylabel('loss')\n",
    "acc_ax.set_ylabel('accuracy')\n",
    "\n",
    "loss_ax.legend(loc='upper left')\n",
    "acc_ax.legend(loc='lower left')"
   ]
  },
  {
   "cell_type": "code",
   "execution_count": 59,
   "metadata": {},
   "outputs": [
    {
     "data": {
      "text/plain": [
       "array([[ 1,  3,  3,  1,  3,  1,  4,  4,  1,  9,  1,  2,  3],\n",
       "       [ 3,  6,  3,  1,  1,  2,  4,  4,  2,  9,  3,  1,  3],\n",
       "       [ 1,  2, 11,  5,  9,  4,  7, 12,  1, 26,  6,  1,  7],\n",
       "       [ 1,  0,  5,  4,  4,  0,  3,  1,  1,  3,  1,  2,  1],\n",
       "       [ 2,  1,  5,  4,  3,  1,  3,  2,  1,  4,  3,  1,  1],\n",
       "       [ 2,  1,  5,  4,  3,  1,  3,  2,  1,  4,  3,  1,  1],\n",
       "       [ 3,  5,  2,  1,  0,  1,  3,  1,  2,  3,  2,  1,  1],\n",
       "       [ 2,  2,  3,  2,  2,  1,  2,  1,  1,  3,  1,  1,  1],\n",
       "       [ 2,  1,  3,  2,  1,  2,  1,  3,  1,  5,  4, -2,  1],\n",
       "       [ 2,  2,  5,  4,  4,  0,  4,  1,  2,  3,  1,  3,  1],\n",
       "       [ 1,  3,  1,  0,  1,  0,  2,  1,  1,  2,  0,  2,  1],\n",
       "       [ 5,  4,  6,  6,  3,  1,  5,  0,  3,  1,  3,  2,  0],\n",
       "       [ 1,  4,  1, -1,  1,  1,  3,  4,  1,  9,  1,  1,  3],\n",
       "       [ 1,  3,  3,  1,  3,  1,  4,  4,  1,  9,  1,  2,  3],\n",
       "       [ 4,  4,  4,  3,  1,  2,  3,  2,  2,  4,  4,  0,  1]])"
      ]
     },
     "execution_count": 59,
     "metadata": {},
     "output_type": "execute_result"
    }
   ],
   "source": [
    "prd_user = [[idx]*n_items for idx in range(n_users)]\n",
    "prd_user = pd.Series(np.reshape(prd_user, -1))\n",
    "prd_item = pd.Series([x for x in range(n_items)] * n_users)\n",
    "\n",
    "ret = model.predict(x=[prd_user, prd_item])\n",
    "\n",
    "pred_R = np.round(ret.reshape([n_users, n_items]))\n",
    "pred_R.astype('int')"
   ]
  },
  {
   "cell_type": "code",
   "execution_count": 60,
   "metadata": {},
   "outputs": [
    {
     "data": {
      "text/plain": [
       "array([[1, 0, 0, 1, 3, 0, 4, 4, 1, 0, 1, 2, 3],\n",
       "       [2, 0, 3, 1, 1, 1, 5, 4, 0, 0, 3, 1, 0],\n",
       "       [1, 2, 0, 5, 0, 4, 0, 0, 1, 0, 0, 1, 0],\n",
       "       [1, 0, 0, 4, 4, 0, 3, 1, 0, 0, 1, 3, 1],\n",
       "       [2, 1, 5, 4, 0, 1, 3, 0, 0, 4, 0, 0, 1],\n",
       "       [5, 1, 5, 4, 0, 1, 3, 0, 1, 0, 0, 1, 0],\n",
       "       [0, 0, 0, 1, 0, 1, 3, 0, 2, 3, 2, 1, 1],\n",
       "       [3, 0, 0, 2, 0, 1, 2, 0, 1, 3, 1, 1, 1],\n",
       "       [2, 1, 3, 0, 1, 3, 1, 0, 0, 5, 4, 0, 0],\n",
       "       [2, 2, 5, 4, 4, 0, 0, 1, 0, 0, 1, 3, 1],\n",
       "       [0, 0, 1, 0, 0, 4, 0, 0, 1, 0, 0, 2, 1],\n",
       "       [5, 4, 0, 0, 3, 1, 0, 0, 3, 1, 0, 0, 1],\n",
       "       [0, 4, 0, 0, 1, 0, 0, 4, 0, 0, 1, 0, 0],\n",
       "       [1, 3, 0, 1, 3, 1, 0, 4, 1, 0, 1, 2, 3],\n",
       "       [4, 4, 0, 0, 1, 0, 1, 0, 0, 4, 0, 0, 1]])"
      ]
     },
     "execution_count": 60,
     "metadata": {},
     "output_type": "execute_result"
    }
   ],
   "source": [
    "R"
   ]
  },
  {
   "cell_type": "code",
   "execution_count": 61,
   "metadata": {},
   "outputs": [
    {
     "data": {
      "text/plain": [
       "0.9122807017543859"
      ]
     },
     "execution_count": 61,
     "metadata": {},
     "output_type": "execute_result"
    }
   ],
   "source": [
    "# Reproducibility (k=3)\n",
    "1 - len(np.nonzero(R[np.nonzero(R)] - pred_R[np.nonzero(R)])[0]) / len(np.nonzero(R)[0])"
   ]
  },
  {
   "cell_type": "code",
   "execution_count": null,
   "metadata": {},
   "outputs": [],
   "source": []
  }
 ],
 "metadata": {
  "kernelspec": {
   "display_name": "Python 3",
   "language": "python",
   "name": "python3"
  },
  "language_info": {
   "codemirror_mode": {
    "name": "ipython",
    "version": 3
   },
   "file_extension": ".py",
   "mimetype": "text/x-python",
   "name": "python",
   "nbconvert_exporter": "python",
   "pygments_lexer": "ipython3",
   "version": "3.6.9"
  }
 },
 "nbformat": 4,
 "nbformat_minor": 2
}
